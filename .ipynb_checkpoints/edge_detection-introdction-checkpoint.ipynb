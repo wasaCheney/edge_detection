{
 "cells": [
  {
   "cell_type": "markdown",
   "id": "581d111f-6e97-471b-b8f7-907892cb24c7",
   "metadata": {},
   "source": [
    "# Edge helps object detection?\n",
    "\n",
    "How to describe an image or an object inside it?\n",
    "Some basic attributions are, such edges, corners, colors, textures, \n",
    "\n",
    "does edge helps object detection?\n",
    "\n",
    "\n",
    "A premise of object detection is that the object and the background are required to be distinguished. Object detection tends to fail if the object and the background are very similar in appearance (such as color, texture, etc.). For example, detecting chameleons or dead-leaf butterflies. （show some images）\n",
    "\n",
    "The premise of accurate positioning of an object is that the object has a clear boundary/countour.\n",
    "\n",
    "Under the condition that objects and backgrounds have clear boundaries and their appearances are consistent, using boundaries for object detection will have great advantages: it can reduce the interference caused by similar information; it can reduce computational overhead and speed up the detection process.\n",
    "\n",
    "## When is edge detection better for positioning?\n",
    "- Content inside an object does not help at all ()\n",
    "- Edge is discriminative\n",
    "\n",
    "- The inside content \n",
    "\n",
    "## edge, contour, boundary, texture\n",
    "## 边缘， 轮廓， 边界, 纹理\n",
    "how to define edge, countour, boundary, texture?\n",
    "\n"
   ]
  },
  {
   "cell_type": "markdown",
   "id": "add453f0-cdef-4be5-b550-5f4cfd94a662",
   "metadata": {},
   "source": [
    "## Edge Detection Based on Deep Neural Networks\n",
    "\n"
   ]
  }
 ],
 "metadata": {
  "kernelspec": {
   "display_name": "Python 3 (ipykernel)",
   "language": "python",
   "name": "python3"
  },
  "language_info": {
   "codemirror_mode": {
    "name": "ipython",
    "version": 3
   },
   "file_extension": ".py",
   "mimetype": "text/x-python",
   "name": "python",
   "nbconvert_exporter": "python",
   "pygments_lexer": "ipython3",
   "version": "3.9.7"
  }
 },
 "nbformat": 4,
 "nbformat_minor": 5
}
